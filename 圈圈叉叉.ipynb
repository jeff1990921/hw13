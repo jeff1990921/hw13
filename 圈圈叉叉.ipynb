{
  "nbformat": 4,
  "nbformat_minor": 0,
  "metadata": {
    "colab": {
      "name": "圈圈叉叉.ipynb",
      "provenance": [],
      "collapsed_sections": []
    },
    "kernelspec": {
      "name": "python3",
      "display_name": "Python 3"
    }
  },
  "cells": [
    {
      "cell_type": "code",
      "metadata": {
        "id": "PkTlwrLWzW36",
        "colab_type": "code",
        "colab": {}
      },
      "source": [
        "board = [['0','0','0'],['0','0','0'],['0','0','0']]\n",
        "def win():\n",
        "  for i in range(3):\n",
        "    if (board[i][0]==board[i][1]==board[i][2]!='0') or (board[0][i]==board[1][i]==board[2][i]!='0'):\n",
        "      return True\n",
        "    if (board[0][0]==board[1][1]==board[2][2]!='0') or (board[0][2]==board[1][1]==board[2][0]!='0'):\n",
        "      return True\n",
        "  return False\n",
        "def tie():\n",
        "  for b in board:\n",
        "    for bb in b:\n",
        "      if bb == '0':\n",
        "        return False\n",
        "  return True"
      ],
      "execution_count": 0,
      "outputs": []
    },
    {
      "cell_type": "code",
      "metadata": {
        "id": "RXSWjBvk0yW0",
        "colab_type": "code",
        "outputId": "37a7cb79-14da-4301-c9e0-21d3774b014e",
        "colab": {
          "base_uri": "https://localhost:8080/",
          "height": 561
        }
      },
      "source": [
        "turn = 1\n",
        "while True:\n",
        "  print('\\n'.join([' '.join(b) for b in board]))\n",
        "  if win() or tie():\n",
        "    print('game over')\n",
        "    break\n",
        "  if turn == 1:\n",
        "    place = [int(i) for i in input(\"player one's turn:\").split()]\n",
        "    if board[place[0]][place[1]]:\n",
        "      board[place[0]][place[1]] = '1'\n",
        "    else:\n",
        "      print('try again')\n",
        "  else:\n",
        "    place = [int(i) for i in input(\"player two's turn:\").split()]\n",
        "    if board[place[0]][place[1]]:\n",
        "      board[place[0]][place[1]] = '2'\n",
        "    else:\n",
        "      print('try again')\n",
        "  turn *= -1  \n",
        "  "
      ],
      "execution_count": 0,
      "outputs": [
        {
          "output_type": "stream",
          "text": [
            "0 0 0\n",
            "0 0 0\n",
            "0 0 0\n",
            "player one's turn:1 1\n",
            "0 0 0\n",
            "0 1 0\n",
            "0 0 0\n",
            "player two's turn:1 0\n",
            "0 0 0\n",
            "2 1 0\n",
            "0 0 0\n",
            "player one's turn:2 0\n",
            "0 0 0\n",
            "2 1 0\n",
            "1 0 0\n",
            "player two's turn:0 2\n",
            "0 0 2\n",
            "2 1 0\n",
            "1 0 0\n",
            "player one's turn:2 2\n",
            "0 0 2\n",
            "2 1 0\n",
            "1 0 1\n",
            "player two's turn:0 0\n",
            "2 0 2\n",
            "2 1 0\n",
            "1 0 1\n",
            "player one's turn:2 1\n",
            "2 0 2\n",
            "2 1 0\n",
            "1 1 1\n",
            "game over\n"
          ],
          "name": "stdout"
        }
      ]
    }
  ]
}